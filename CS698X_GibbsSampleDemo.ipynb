{
  "nbformat": 4,
  "nbformat_minor": 0,
  "metadata": {
    "colab": {
      "name": "CS698X_GibbsSampleDemo.ipynb",
      "provenance": [],
      "collapsed_sections": [],
      "toc_visible": true
    },
    "kernelspec": {
      "name": "python3",
      "display_name": "Python 3"
    },
    "language_info": {
      "name": "python"
    }
  },
  "cells": [
    {
      "cell_type": "markdown",
      "metadata": {
        "id": "QAJuH5xlQqSP"
      },
      "source": [
        "# Gibbs Sampling Based Posterior Approximation\n",
        "In the below python notebook, we try to model the boston house prediction data through multi-level regression dataset. We propose a probabistic model for the same and performs Gibbs sampling based approximation of posterior due to intractable nature of posterior."
      ]
    },
    {
      "cell_type": "code",
      "metadata": {
        "id": "6UTx-umvQx0d"
      },
      "source": [
        "#Author: Shrey Bhatt (20111060)\n",
        "\n",
        "from sklearn.datasets import load_boston\n",
        "data_obj = load_boston()\n",
        "#print(data_obj)\n",
        "#print(data_obj['data'][0:3])\n",
        "feat = data_obj['data'][:,[0,1,3,5,6,8,9]]\n",
        "targ = data_obj['target']\n",
        "targ = targ.reshape((len(targ),1))\n"
      ],
      "execution_count": 1,
      "outputs": []
    },
    {
      "cell_type": "markdown",
      "metadata": {
        "id": "wEdtmEKd36Gd"
      },
      "source": [
        "## Feature Scaling\n",
        "We use the features crime rate, propostion of residential land zone, charles river presence, average rooms per dwelling, proportion of owner-occupied units built prior 1940, accessibility of radial highways and property tax rate to predict the housing value. As each feature consist of different domain, we perform feature scaling prior to use of data. Also, we append a constant 1 to end of features for later introducing a bias-like term in our model."
      ]
    },
    {
      "cell_type": "code",
      "metadata": {
        "id": "VTb-0nE9YdIY"
      },
      "source": [
        "from sklearn.preprocessing import StandardScaler\n",
        "from sklearn.model_selection import train_test_split\n",
        "import numpy as np\n",
        "\n",
        "f_scale = StandardScaler()\n",
        "t_scale = StandardScaler()\n",
        "\n",
        "X = f_scale.fit_transform(feat)\n",
        "y = t_scale.fit_transform(targ)\n",
        "X = np.concatenate((X,np.ones((len(feat),1))),axis=1)\n",
        "\n",
        "X_train, X_test, y_train, y_test = train_test_split(X, y, test_size=0.2, random_state=42)\n",
        "#print(X,y)"
      ],
      "execution_count": 2,
      "outputs": []
    },
    {
      "cell_type": "markdown",
      "metadata": {
        "id": "0_kJicd494S4"
      },
      "source": [
        "## Probabilistic hierarchical regression model\n",
        "We propose the below probabilistic model for analyzing the relationship between features and target variable. The likelihood for the target variable y is given as:\n",
        "\n",
        "$p(y_n | x_n, w, \\beta) = \\mathcal{N}(w^T x_n, \\beta^{-1})$\n",
        "\n",
        "The prior for  various parameters are given as:\n",
        "\n",
        "$p(w | s_1, s_2, s_3 ... s_D) = \\mathcal{N}(w | 0, diag(s_1^{-1}, s_2^{-1} ... s_D^{-1}))$\n",
        "\n",
        "$p(\\beta) = Gamma(\\beta | \\alpha, \\lambda)$\n",
        "\n",
        "$p(s_i) = Gamma(s_i | a_i, b_i)$"
      ]
    },
    {
      "cell_type": "markdown",
      "metadata": {
        "id": "VhtaGGUDBNMk"
      },
      "source": [
        "###Intractable Posterior\n",
        "\n",
        "However, the posterior of the above model is intractable as it is given by:\n",
        "\n",
        "$p(w, \\beta, s_1, s_2 ... s_D | y, X) = \\frac{p(y, w, \\beta, s_1, s_2 ... s_D | X)}{p(y|X)}\\\\ = \\frac{p(y | X, w, \\beta) p(w |, s_1, s_2 ... s_D) p(\\beta) p(s_1, s_2 ... s_D)}{\\int p(y | X, w, \\beta) p(w |, s_1, s_2 ... s_D) p(\\beta) p(s_1, s_2 ... s_D) d(w, \\beta, s_1 ,s_2 ... s_D) }$\n",
        "\n",
        "The denominator is an integral of product of Gaussian and multiple Gamma distributions, which make it intractable to compute."
      ]
    },
    {
      "cell_type": "markdown",
      "metadata": {
        "id": "atToD6ZXFT7c"
      },
      "source": [
        "## Sampling to the rescue ...\n",
        "Although the above posterior is intractable, there is local conjugacy among the parameters and this allows us to apply an approximate sampling method to estimate the posterior i.e. Gibbs Sampling. Gibbs sampling is a type of MCMC sampling and is very popular in such hierarchical models where local conjugacy is prevalent.\n",
        "\n",
        "To perform Gibbs Sampling, we need to find condititonal posterior for every parameter and use them to generate samples. The distribution for conditional posterior for various parameters are as given below:\n"
      ]
    },
    {
      "cell_type": "markdown",
      "metadata": {
        "id": "NGy50HZdHgJg"
      },
      "source": [
        "### Conditional posterior for w\n",
        "\n",
        "$p(w | y, X, \\beta, s_1, s_2 ... s_D) = \\frac{p(w, y | X, \\beta, s_1, s_2 ... s_D)}{p(y | X, \\beta, s_1, s_2 ... s_D)}\n",
        "= \\frac{p(y | w, X, \\beta) p(w |  s_1, s_2 ... s_D)}{p(y | X, \\beta, s_1, s_2 ... s_D)}$\n",
        "\n",
        "$= \\frac{\\mathcal{N}(y | Xw, \\beta^{-1} I_N) \\mathcal{N}(w | 0, diag(s_1^{-1}, s_2^{-1} ... s_D^{-1}))}{\\int \\mathcal{N}(y | Xw, \\beta^{-1} I_N) \\mathcal{N}(w | 0, diag(s_1^{-1}, s_2^{-1} ... s_D^{-1})) dw}$\n",
        "\n",
        "$= \\mathcal{N}(w | ( X^T X + \\beta^{-1} diag(s_1, s_2 ... s_D))^{-1} X^T y, ( \\beta X^T X + diag(s_1, s_2 ... s_D))^{-1})$\n",
        "\n",
        "$ = \\mathcal{N}(w | \\mu_w, \\Sigma_w)$"
      ]
    },
    {
      "cell_type": "markdown",
      "metadata": {
        "id": "2Y9HyHOiLNx5"
      },
      "source": [
        "### Conditional posterior for $\\beta$\n",
        "\n",
        "$p(\\beta | y, X, w, s_1, s_2 ... s_D) = \\frac{p(\\beta, y | w, X, s_1, s_2 ... s_D)}{p(y | X, w, s_1, s_2 ... s_D)}\n",
        "= \\frac{p(y | w, X, \\beta) p(\\beta)}{p(y | X, w, s_1, s_2 ... s_D)}$\n",
        "\n",
        "$ = \\frac{\\frac{1}{\\sqrt{(2 \\pi)^N |\\beta^{-1} I_N|}} exp(\\frac{-\\beta}{2} (y - Xw)^T (y - Xw)) \\times (\\beta)^{(\\alpha-1)} exp[-\\beta \\lambda]}{p(y | X, w, s_1, s_2 ... s_D)}$\n",
        "\n",
        "$ = \\frac{(2 \\pi)^{\\frac{-N}{2}} (\\beta)^{(\\alpha + N/2 - 1)} exp( -\\beta[(y - Xw)^T (y - Xw)/2 + \\lambda])}{p(y | X, w, s_1, s_2 ... s_D)}$\n",
        "\n",
        "$ = Gamma(\\beta | \\alpha + \\frac{N}{2}, \\lambda + \\frac{1}{2}(y -  Xw)^T(y - Xw))$\n"
      ]
    },
    {
      "cell_type": "markdown",
      "metadata": {
        "id": "Ro36TbjuNwAz"
      },
      "source": [
        "### Condition posterior for $s_i$\n",
        "\n",
        "$p(s_i | y, X, w, \\beta, s_{-i}) = \\frac{p(s_i, w | \\beta, s_{-i})}{p(w | \\beta, s_{-i})}\n",
        "= \\frac{p(w | s_1 ... s_D) p(s_i)}{p(w | \\beta, s_{-i})}$\n",
        "\n",
        "$ = \\frac{\\frac{1}{\\sqrt{(2 \\pi)^D |diag(s_1^{-1} , s_2^{-1} ... s_D^{-1})|}} exp(\\frac{-1}{2} \\sum_{d=1}^D w_d^2 s_d) (s_i)^{(a_i - 1)} exp[-b_i s_i]}{p(w | \\beta, s_{-i})}$\n",
        "\n",
        "$ = \\frac{ (s_i)^{(a_i - 1 + 1/2)} exp[- s_i(\\frac{w_i^2}{2} + b_i)]}{\\int (s_i)^{(a_i - 1 + 1/2)} exp[- s_i(\\frac{w_i^2}{2} + b_i)] d(s_i)}$\n",
        "\n",
        "$ = Gamma(s_i | a_i + \\frac{1}{2}, b_i + \\frac{w_i^2}{2})$\n"
      ]
    },
    {
      "cell_type": "markdown",
      "metadata": {
        "id": "cGkVKRFmSC04"
      },
      "source": [
        "Using these conditional posteriors, we generate $S$ samples of each parameter, which represent the samples of posterior."
      ]
    },
    {
      "cell_type": "code",
      "metadata": {
        "id": "7JfNIuWs92tm"
      },
      "source": [
        "def gen_samples(num_samples,a_arr,b_arr,alpha_v,lambda_v,X,y):\n",
        "  dims = len(X[0])\n",
        "  X_len = len(X)\n",
        "  w = np.zeros((dims))\n",
        "  si = np.zeros((dims))\n",
        "  beta = 0\n",
        "\n",
        "  for d in range(dims):\n",
        "    si[d] = np.random.gamma(a_arr[d],b_arr[d])\n",
        "  beta = np.random.gamma(alpha_v,lambda_v)\n",
        "\n",
        "  beta_samples = []\n",
        "  si_samples = []\n",
        "  w_samples = []\n",
        "\n",
        "  for i in range(num_samples):\n",
        "    Xt_X = np.matmul(np.transpose(X),X)\n",
        "    diagmat = np.zeros((dims,dims))\n",
        "    for j in range(dims):\n",
        "      diagmat[j][j] = si[j]\n",
        "    covw = np.linalg.inv(beta*Xt_X + diagmat)\n",
        "    Xt_y = np.matmul(np.transpose(X),y)\n",
        "    meanw = (np.matmul(covw,Xt_y)*beta).reshape((dims))\n",
        "    #print(meanw)\n",
        "    #print(covw)\n",
        "    w = np.random.multivariate_normal(mean=meanw,cov = covw)\n",
        "    #print(w)\n",
        "    preds = np.matmul(X,w)\n",
        "    preds= preds.reshape((len(preds),1))\n",
        "    #print(preds)\n",
        "    diff_vec = y - preds\n",
        "    #if i==0:\n",
        "      #print(diff_vec)\n",
        "    sq_loss = np.sum(diff_vec**2)\n",
        "    #print(sq_loss)\n",
        "    #print(sq_loss)\n",
        "    #print(diff_vec)\n",
        "    beta = np.random.gamma(shape = alpha_v + X_len/2, scale = lambda_v + sq_loss/2)\n",
        "    #print(beta)\n",
        "    si = np.zeros((dims))\n",
        "    for j in range(dims):\n",
        "      si[j] = np.random.gamma(shape=a_arr[j] + 0.5,scale = b_arr[j] + (w[j]**2)/2)\n",
        "    #print(si)\n",
        "    beta_samples.append(beta)\n",
        "    si_samples.append(si)\n",
        "    w_samples.append(w)\n",
        "\n",
        "  return w_samples, beta_samples, si_samples\n"
      ],
      "execution_count": 3,
      "outputs": []
    },
    {
      "cell_type": "code",
      "metadata": {
        "id": "nULSJpZhY_ZY"
      },
      "source": [
        "from random import randint\n",
        "\n",
        "numS = 1000\n",
        "dims = len(X_train[0])\n",
        "a_arr = np.zeros((dims))\n",
        "b_arr = np.zeros((dims))\n",
        "alpha_v = 0\n",
        "lambda_v = 0\n",
        "\n",
        "for i in range(dims):\n",
        "  a_arr[i] = randint(1,5)\n",
        "  b_arr[i] = randint(1,5)\n",
        "\n",
        "alpha_v = randint(1,5)\n",
        "lambda_v = randint(1,5)\n",
        "\n",
        "#print(a_arr)\n",
        "#print(b_arr)\n",
        "#print(alpha_v)\n",
        "#print(lambda_v)\n",
        "\n",
        "w, beta, si = gen_samples(numS,a_arr,b_arr,alpha_v,lambda_v,X_train,y_train)\n",
        "#print(w)\n"
      ],
      "execution_count": 4,
      "outputs": []
    },
    {
      "cell_type": "markdown",
      "metadata": {
        "id": "7QFRqmfK42Jx"
      },
      "source": [
        "## Making prediction using the samples\n",
        "\n",
        "Now, that we have generated the samples for posterior, we need to use them and make predictions. The expression for posterior predictive distribution is given by:\n",
        "\n",
        "$p(y_* | x_*, y, X) = \\int p(y_* | x_*, w, \\beta) p(w, \\beta, s_1, s_2 ... s_D | y, X) d(w, \\beta, s_1, s_2 ... s_D)$\n",
        "\n",
        "Now, since the samples have already been generated w.r.t the posterior probabilitiy, we simply need to substitute them into the first term of the PPD in order to compute expected prediction and uncertainty/variance in prediction\n",
        "\n",
        "$p(y_* | x_*, y, X) = \\frac{1}{S} \\sum_{s=1}^S p(y_* | x_*, w^{(s)}, \\beta^{(s)})$\n",
        "\n",
        "Although one might wonder that the samples generated for $s_i$ are not used in PPD, but they have been indirectly useful for generating sample for $w$ and $\\beta$ and so, in that way they have act as prior parameters.\n",
        "\n",
        "The expected prediction for any input is given as:\n",
        "\n",
        "$E[y_*] = E[w^T x_* + \\epsilon] = \\frac{1}{S} \\sum_{s=1}^S E[\\mathcal{N(y_* | (w^{(s)})^T x_*, \\beta^{-1})}] + 0 = \\frac{1}{S} \\sum_{s=1}^S (w^{(s)})^T x_*$\n",
        "\n",
        "The variance in prediction for any input is given as:\n",
        "\n",
        "$var[y_*] = var[w^T x_* + \\epsilon] = var[w^T x_*] + var[\\epsilon]$\n",
        "\n",
        "$ = \\frac{1}{S} \\sum_{s=1}^S ((w^{(s)})^T x_*)^2 - (\\frac{1}{S} \\sum_{s=1}^S (w^{(s)})^T x_*)^2 + \\frac{1}{S} \\sum_{s=1}^S (\\beta^{(s)})^{-1}$\n",
        "\n",
        "In fact, taking more samples allow you to estimate the extent of uncertainty/variance in prediction of a given input."
      ]
    },
    {
      "cell_type": "code",
      "metadata": {
        "id": "OuMt5vph3-Qd"
      },
      "source": [
        "def predict_y(x,w_samp,beta_samp):\n",
        "  #print(beta_samp)\n",
        "  numsamp = len(w_samp)\n",
        "  pred = np.zeros((numsamp))\n",
        "  for i in range(numsamp):\n",
        "    pred[i] = np.dot(w_samp[i],x)\n",
        "  #print(pred)\n",
        "  mean_pred = np.mean(pred)\n",
        "  #print(mean_pred)\n",
        "  predsq = pred**2\n",
        "  betavar = 0\n",
        "  for betas in beta_samp:\n",
        "    betavar += 1/betas\n",
        "  var_pred = np.mean(predsq) - (mean_pred**2) + betavar/numsamp\n",
        "  #print(mean_pred, var_pred)\n",
        "  return mean_pred,var_pred"
      ],
      "execution_count": 5,
      "outputs": []
    },
    {
      "cell_type": "code",
      "metadata": {
        "id": "c_29DwnsFDgn"
      },
      "source": [
        "def eval(X,y,w,beta):\n",
        "  mean_sq_loss = 0\n",
        "  for i in range(len(X)):\n",
        "    meanp, varp = predict_y(X[i],w,beta)\n",
        "    mean_sq_loss+=(meanp - y[i][0])**2\n",
        "  mean_sq_loss/=len(X)\n",
        "  return mean_sq_loss"
      ],
      "execution_count": 6,
      "outputs": []
    },
    {
      "cell_type": "code",
      "metadata": {
        "colab": {
          "base_uri": "https://localhost:8080/"
        },
        "id": "kzjBTZBBk4bA",
        "outputId": "09214e49-df79-49e0-b667-ba519aa03ffc"
      },
      "source": [
        "meansqloss = eval(X_test,y_test,w,beta)\n",
        "print('Mean squared loss: ', meansqloss)"
      ],
      "execution_count": 7,
      "outputs": [
        {
          "output_type": "stream",
          "text": [
            "Mean squared loss:  0.42829705315265876\n"
          ],
          "name": "stdout"
        }
      ]
    },
    {
      "cell_type": "markdown",
      "metadata": {
        "id": "ztG4_0V4knSJ"
      },
      "source": [
        "## Mean squared loss over the original-data\n",
        "After measuring the mean squared loss over transformed/scaled data, we also measure the mean squared loss over original-data to know the extent of deviation of target and predicted values"
      ]
    },
    {
      "cell_type": "code",
      "metadata": {
        "colab": {
          "base_uri": "https://localhost:8080/"
        },
        "id": "1cvEMIW0kk2X",
        "outputId": "b48a82c8-1bc3-4fb1-c8ac-29df5e81539c"
      },
      "source": [
        "mean_sq_loss_orig = 0\n",
        "pred_vals = np.zeros((len(X_test)))\n",
        "for i in range(len(X_test)):\n",
        "  meanp, varp = predict_y(X_test[i],w,beta)\n",
        "  pred_vals[i] = meanp\n",
        "pred_vals = pred_vals.reshape((len(pred_vals),1))\n",
        "pred_orig = t_scale.inverse_transform(pred_vals)\n",
        "y_orig = t_scale.inverse_transform(y_test)\n",
        "mean_sq_loss_orig = np.mean((pred_orig - y_orig)**2)\n",
        "print('Mean squared loss over untransformed data: ', mean_sq_loss_orig)"
      ],
      "execution_count": 8,
      "outputs": [
        {
          "output_type": "stream",
          "text": [
            "Mean squared loss over untransformed data:  36.156647130141096\n"
          ],
          "name": "stdout"
        }
      ]
    },
    {
      "cell_type": "markdown",
      "metadata": {
        "id": "L9Gw2JA2pt9i"
      },
      "source": [
        "## Plots over different attributes\n",
        "The plot of target and predition over attributes like tax and crime rate is as shown below:"
      ]
    },
    {
      "cell_type": "code",
      "metadata": {
        "colab": {
          "base_uri": "https://localhost:8080/",
          "height": 541
        },
        "id": "p26THKfOqE53",
        "outputId": "1d3e84de-0b03-4332-d43c-2cc76181fb2c"
      },
      "source": [
        "import matplotlib.pyplot as plt\n",
        "\n",
        "pred_y = np.zeros((len(X)))\n",
        "for i in range(len(X)):\n",
        "  pred_y[i], varp = predict_y(X[i],w,beta)\n",
        "pred_y = pred_y.reshape((len(pred_y),1))\n",
        "pred_y = t_scale.inverse_transform(pred_y)\n",
        "\n",
        "plt.xlabel('Crime rate')\n",
        "plt.ylabel('Housing Value')\n",
        "plt.scatter(feat[:,0],targ,c='red',alpha=0.6,label='Target')\n",
        "plt.scatter(feat[:,0],pred_y,c='green',alpha=0.6,label='Prediction')\n",
        "plt.legend()\n",
        "plt.show()\n",
        "\n",
        "plt.xlabel('Property Tax')\n",
        "plt.ylabel('Housing Value')\n",
        "plt.scatter(feat[:,6],targ,c='red',alpha=0.6,label='Target')\n",
        "plt.scatter(feat[:,6],pred_y,c='green',alpha=0.6,label='Prediction')\n",
        "plt.legend()\n",
        "plt.show()\n"
      ],
      "execution_count": 9,
      "outputs": [
        {
          "output_type": "display_data",
          "data": {
            "image/png": "[encoded data removed]",
            "text/plain": [
              "<Figure size 432x288 with 1 Axes>"
            ]
          },
          "metadata": {
            "tags": [],
            "needs_background": "light"
          }
        },
        {
          "output_type": "display_data",
          "data": {
            "image/png": "[encoded data removed]",
            "text/plain": [
              "<Figure size 432x288 with 1 Axes>"
            ]
          },
          "metadata": {
            "tags": [],
            "needs_background": "light"
          }
        }
      ]
    }
  ]
}